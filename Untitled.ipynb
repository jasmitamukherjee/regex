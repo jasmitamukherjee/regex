{
 "cells": [
  {
   "cell_type": "code",
   "execution_count": 1,
   "id": "cf1e364b-e51e-497d-a1a1-4f9a433fb1c6",
   "metadata": {},
   "outputs": [],
   "source": [
    "import re"
   ]
  },
  {
   "cell_type": "code",
   "execution_count": 4,
   "id": "1bf11eaf-322c-4593-a249-82c870161c00",
   "metadata": {},
   "outputs": [
    {
     "name": "stderr",
     "output_type": "stream",
     "text": [
      "<>:2: SyntaxWarning: invalid escape sequence '\\('\n",
      "<>:2: SyntaxWarning: invalid escape sequence '\\('\n",
      "C:\\Users\\Jasmita\\AppData\\Local\\Temp\\ipykernel_8564\\3239969284.py:2: SyntaxWarning: invalid escape sequence '\\('\n",
      "  pattern = '\\(\\d{3}\\)-\\d{3}-\\d{4}|\\d{10}'\n"
     ]
    },
    {
     "data": {
      "text/plain": [
       "['9163949442', '(916)-394-9442']"
      ]
     },
     "execution_count": 4,
     "metadata": {},
     "output_type": "execute_result"
    }
   ],
   "source": [
    "text= 'This dataset is recreated using offline augmentation from the original dataset. The original dataset can be found on this github repo. This dataset consists of about 87K rgb images of healthy and diseased crop leaves which is categorized into 38 different classes. The total dataset is divided into 80/20 ratio of training and validation set preserving the directory structure. A new directory containing 33 test images is created later for prediction purpose.The phne number is 9163949442.Call if you need (916)-394-9442'\n",
    "pattern = '\\(\\d{3}\\)-\\d{3}-\\d{4}|\\d{10}'\n",
    "re.findall(pattern,text)\n"
   ]
  },
  {
   "cell_type": "code",
   "execution_count": null,
   "id": "3ec23568-a01d-4745-82be-bc78b15ddfcb",
   "metadata": {},
   "outputs": [],
   "source": []
  }
 ],
 "metadata": {
  "kernelspec": {
   "display_name": "Python 3 (ipykernel)",
   "language": "python",
   "name": "python3"
  },
  "language_info": {
   "codemirror_mode": {
    "name": "ipython",
    "version": 3
   },
   "file_extension": ".py",
   "mimetype": "text/x-python",
   "name": "python",
   "nbconvert_exporter": "python",
   "pygments_lexer": "ipython3",
   "version": "3.12.2"
  }
 },
 "nbformat": 4,
 "nbformat_minor": 5
}
